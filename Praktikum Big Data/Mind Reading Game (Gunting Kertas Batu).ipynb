{
  "nbformat": 4,
  "nbformat_minor": 0,
  "metadata": {
    "kernelspec": {
      "display_name": "Python 3",
      "language": "python",
      "name": "python3"
    },
    "language_info": {
      "codemirror_mode": {
        "name": "ipython",
        "version": 3
      },
      "file_extension": ".py",
      "mimetype": "text/x-python",
      "name": "python",
      "nbconvert_exporter": "python",
      "pygments_lexer": "ipython3",
      "version": "3.6.9"
    },
    "colab": {
      "name": "sourcecode.ipynb",
      "provenance": []
    },
    "widgets": {
      "application/vnd.jupyter.widget-state+json": {
        "661cc30e935440ed894e04a10359c669": {
          "model_module": "@jupyter-widgets/controls",
          "model_name": "HBoxModel",
          "state": {
            "_view_name": "HBoxView",
            "_dom_classes": [],
            "_model_name": "HBoxModel",
            "_view_module": "@jupyter-widgets/controls",
            "_model_module_version": "1.5.0",
            "_view_count": null,
            "_view_module_version": "1.5.0",
            "box_style": "",
            "layout": "IPY_MODEL_4c037926fc1a4b4d9f20e28b4b8ea13a",
            "_model_module": "@jupyter-widgets/controls",
            "children": [
              "IPY_MODEL_925771dc6f7e426584a48ea094ccd652",
              "IPY_MODEL_b7f5737b22b74e22876ecf8927b0c7ef",
              "IPY_MODEL_92b1c4c53ab4421880bd6afba1339acd"
            ]
          }
        },
        "4c037926fc1a4b4d9f20e28b4b8ea13a": {
          "model_module": "@jupyter-widgets/base",
          "model_name": "LayoutModel",
          "state": {
            "_view_name": "LayoutView",
            "grid_template_rows": null,
            "right": null,
            "justify_content": null,
            "_view_module": "@jupyter-widgets/base",
            "overflow": null,
            "_model_module_version": "1.2.0",
            "_view_count": null,
            "flex_flow": null,
            "width": null,
            "min_width": null,
            "border": null,
            "align_items": null,
            "bottom": null,
            "_model_module": "@jupyter-widgets/base",
            "top": null,
            "grid_column": null,
            "overflow_y": null,
            "overflow_x": null,
            "grid_auto_flow": null,
            "grid_area": null,
            "grid_template_columns": null,
            "flex": null,
            "_model_name": "LayoutModel",
            "justify_items": null,
            "grid_row": null,
            "max_height": null,
            "align_content": null,
            "visibility": null,
            "align_self": null,
            "height": null,
            "min_height": null,
            "padding": null,
            "grid_auto_rows": null,
            "grid_gap": null,
            "max_width": null,
            "order": null,
            "_view_module_version": "1.2.0",
            "grid_template_areas": null,
            "object_position": null,
            "object_fit": null,
            "grid_auto_columns": null,
            "margin": null,
            "display": null,
            "left": null
          }
        },
        "925771dc6f7e426584a48ea094ccd652": {
          "model_module": "@jupyter-widgets/controls",
          "model_name": "ButtonModel",
          "state": {
            "_view_name": "ButtonView",
            "style": "IPY_MODEL_cb9a662adf204546aeb76bb2b59f1c76",
            "_dom_classes": [],
            "description": "gunting",
            "_model_name": "ButtonModel",
            "button_style": "",
            "_view_module": "@jupyter-widgets/controls",
            "_model_module_version": "1.5.0",
            "tooltip": "",
            "_view_count": null,
            "disabled": false,
            "_view_module_version": "1.5.0",
            "layout": "IPY_MODEL_826c8ec67cb64ea798a045feafbf38c9",
            "_model_module": "@jupyter-widgets/controls",
            "icon": ""
          }
        },
        "b7f5737b22b74e22876ecf8927b0c7ef": {
          "model_module": "@jupyter-widgets/controls",
          "model_name": "ButtonModel",
          "state": {
            "_view_name": "ButtonView",
            "style": "IPY_MODEL_1bce0244f8aa4dc3ac848fb6559f4700",
            "_dom_classes": [],
            "description": "kertas",
            "_model_name": "ButtonModel",
            "button_style": "",
            "_view_module": "@jupyter-widgets/controls",
            "_model_module_version": "1.5.0",
            "tooltip": "",
            "_view_count": null,
            "disabled": false,
            "_view_module_version": "1.5.0",
            "layout": "IPY_MODEL_95eeebc812ae432eb9b75a81825c9358",
            "_model_module": "@jupyter-widgets/controls",
            "icon": ""
          }
        },
        "92b1c4c53ab4421880bd6afba1339acd": {
          "model_module": "@jupyter-widgets/controls",
          "model_name": "ButtonModel",
          "state": {
            "_view_name": "ButtonView",
            "style": "IPY_MODEL_577de89ffc064a7bb8128e11271b70ff",
            "_dom_classes": [],
            "description": "batu",
            "_model_name": "ButtonModel",
            "button_style": "",
            "_view_module": "@jupyter-widgets/controls",
            "_model_module_version": "1.5.0",
            "tooltip": "",
            "_view_count": null,
            "disabled": false,
            "_view_module_version": "1.5.0",
            "layout": "IPY_MODEL_528f983badc64e36ba5817dd36dc9421",
            "_model_module": "@jupyter-widgets/controls",
            "icon": ""
          }
        },
        "cb9a662adf204546aeb76bb2b59f1c76": {
          "model_module": "@jupyter-widgets/controls",
          "model_name": "ButtonStyleModel",
          "state": {
            "_view_name": "StyleView",
            "_model_name": "ButtonStyleModel",
            "_view_module": "@jupyter-widgets/base",
            "_model_module_version": "1.5.0",
            "_view_count": null,
            "button_color": null,
            "font_weight": "",
            "_view_module_version": "1.2.0",
            "_model_module": "@jupyter-widgets/controls"
          }
        },
        "826c8ec67cb64ea798a045feafbf38c9": {
          "model_module": "@jupyter-widgets/base",
          "model_name": "LayoutModel",
          "state": {
            "_view_name": "LayoutView",
            "grid_template_rows": null,
            "right": null,
            "justify_content": null,
            "_view_module": "@jupyter-widgets/base",
            "overflow": null,
            "_model_module_version": "1.2.0",
            "_view_count": null,
            "flex_flow": null,
            "width": null,
            "min_width": null,
            "border": null,
            "align_items": null,
            "bottom": null,
            "_model_module": "@jupyter-widgets/base",
            "top": null,
            "grid_column": null,
            "overflow_y": null,
            "overflow_x": null,
            "grid_auto_flow": null,
            "grid_area": null,
            "grid_template_columns": null,
            "flex": null,
            "_model_name": "LayoutModel",
            "justify_items": null,
            "grid_row": null,
            "max_height": null,
            "align_content": null,
            "visibility": null,
            "align_self": null,
            "height": null,
            "min_height": null,
            "padding": null,
            "grid_auto_rows": null,
            "grid_gap": null,
            "max_width": null,
            "order": null,
            "_view_module_version": "1.2.0",
            "grid_template_areas": null,
            "object_position": null,
            "object_fit": null,
            "grid_auto_columns": null,
            "margin": null,
            "display": null,
            "left": null
          }
        },
        "1bce0244f8aa4dc3ac848fb6559f4700": {
          "model_module": "@jupyter-widgets/controls",
          "model_name": "ButtonStyleModel",
          "state": {
            "_view_name": "StyleView",
            "_model_name": "ButtonStyleModel",
            "_view_module": "@jupyter-widgets/base",
            "_model_module_version": "1.5.0",
            "_view_count": null,
            "button_color": null,
            "font_weight": "",
            "_view_module_version": "1.2.0",
            "_model_module": "@jupyter-widgets/controls"
          }
        },
        "95eeebc812ae432eb9b75a81825c9358": {
          "model_module": "@jupyter-widgets/base",
          "model_name": "LayoutModel",
          "state": {
            "_view_name": "LayoutView",
            "grid_template_rows": null,
            "right": null,
            "justify_content": null,
            "_view_module": "@jupyter-widgets/base",
            "overflow": null,
            "_model_module_version": "1.2.0",
            "_view_count": null,
            "flex_flow": null,
            "width": null,
            "min_width": null,
            "border": null,
            "align_items": null,
            "bottom": null,
            "_model_module": "@jupyter-widgets/base",
            "top": null,
            "grid_column": null,
            "overflow_y": null,
            "overflow_x": null,
            "grid_auto_flow": null,
            "grid_area": null,
            "grid_template_columns": null,
            "flex": null,
            "_model_name": "LayoutModel",
            "justify_items": null,
            "grid_row": null,
            "max_height": null,
            "align_content": null,
            "visibility": null,
            "align_self": null,
            "height": null,
            "min_height": null,
            "padding": null,
            "grid_auto_rows": null,
            "grid_gap": null,
            "max_width": null,
            "order": null,
            "_view_module_version": "1.2.0",
            "grid_template_areas": null,
            "object_position": null,
            "object_fit": null,
            "grid_auto_columns": null,
            "margin": null,
            "display": null,
            "left": null
          }
        },
        "577de89ffc064a7bb8128e11271b70ff": {
          "model_module": "@jupyter-widgets/controls",
          "model_name": "ButtonStyleModel",
          "state": {
            "_view_name": "StyleView",
            "_model_name": "ButtonStyleModel",
            "_view_module": "@jupyter-widgets/base",
            "_model_module_version": "1.5.0",
            "_view_count": null,
            "button_color": null,
            "font_weight": "",
            "_view_module_version": "1.2.0",
            "_model_module": "@jupyter-widgets/controls"
          }
        },
        "528f983badc64e36ba5817dd36dc9421": {
          "model_module": "@jupyter-widgets/base",
          "model_name": "LayoutModel",
          "state": {
            "_view_name": "LayoutView",
            "grid_template_rows": null,
            "right": null,
            "justify_content": null,
            "_view_module": "@jupyter-widgets/base",
            "overflow": null,
            "_model_module_version": "1.2.0",
            "_view_count": null,
            "flex_flow": null,
            "width": null,
            "min_width": null,
            "border": null,
            "align_items": null,
            "bottom": null,
            "_model_module": "@jupyter-widgets/base",
            "top": null,
            "grid_column": null,
            "overflow_y": null,
            "overflow_x": null,
            "grid_auto_flow": null,
            "grid_area": null,
            "grid_template_columns": null,
            "flex": null,
            "_model_name": "LayoutModel",
            "justify_items": null,
            "grid_row": null,
            "max_height": null,
            "align_content": null,
            "visibility": null,
            "align_self": null,
            "height": null,
            "min_height": null,
            "padding": null,
            "grid_auto_rows": null,
            "grid_gap": null,
            "max_width": null,
            "order": null,
            "_view_module_version": "1.2.0",
            "grid_template_areas": null,
            "object_position": null,
            "object_fit": null,
            "grid_auto_columns": null,
            "margin": null,
            "display": null,
            "left": null
          }
        },
        "94cc6b379c3d490f8cc8623dbc026908": {
          "model_module": "@jupyter-widgets/controls",
          "model_name": "VBoxModel",
          "state": {
            "_view_name": "VBoxView",
            "_dom_classes": [],
            "_model_name": "VBoxModel",
            "_view_module": "@jupyter-widgets/controls",
            "_model_module_version": "1.5.0",
            "_view_count": null,
            "_view_module_version": "1.5.0",
            "box_style": "",
            "layout": "IPY_MODEL_9c67a5cd9e6041c7b3a772cef15fc4b1",
            "_model_module": "@jupyter-widgets/controls",
            "children": [
              "IPY_MODEL_898d304750ce48e0b0c9919de12a0ae5",
              "IPY_MODEL_83a4714dd94b4205bf02e9fd4ce50eba"
            ]
          }
        },
        "9c67a5cd9e6041c7b3a772cef15fc4b1": {
          "model_module": "@jupyter-widgets/base",
          "model_name": "LayoutModel",
          "state": {
            "_view_name": "LayoutView",
            "grid_template_rows": null,
            "right": null,
            "justify_content": null,
            "_view_module": "@jupyter-widgets/base",
            "overflow": null,
            "_model_module_version": "1.2.0",
            "_view_count": null,
            "flex_flow": null,
            "width": null,
            "min_width": null,
            "border": null,
            "align_items": null,
            "bottom": null,
            "_model_module": "@jupyter-widgets/base",
            "top": null,
            "grid_column": null,
            "overflow_y": null,
            "overflow_x": null,
            "grid_auto_flow": null,
            "grid_area": null,
            "grid_template_columns": null,
            "flex": null,
            "_model_name": "LayoutModel",
            "justify_items": null,
            "grid_row": null,
            "max_height": null,
            "align_content": null,
            "visibility": null,
            "align_self": null,
            "height": null,
            "min_height": null,
            "padding": null,
            "grid_auto_rows": null,
            "grid_gap": null,
            "max_width": null,
            "order": null,
            "_view_module_version": "1.2.0",
            "grid_template_areas": null,
            "object_position": null,
            "object_fit": null,
            "grid_auto_columns": null,
            "margin": null,
            "display": null,
            "left": null
          }
        },
        "898d304750ce48e0b0c9919de12a0ae5": {
          "model_module": "@jupyter-widgets/controls",
          "model_name": "IntProgressModel",
          "state": {
            "_view_name": "ProgressView",
            "style": "IPY_MODEL_24d901debd2c423981625db66e82857e",
            "_dom_classes": [],
            "description": "You:",
            "_model_name": "IntProgressModel",
            "bar_style": "success",
            "max": 30,
            "_view_module": "@jupyter-widgets/controls",
            "_model_module_version": "1.5.0",
            "value": 3,
            "_view_count": null,
            "_view_module_version": "1.5.0",
            "orientation": "horizontal",
            "min": 0,
            "description_tooltip": null,
            "_model_module": "@jupyter-widgets/controls",
            "layout": "IPY_MODEL_ff23a614b0404326958642b313286c2f"
          }
        },
        "83a4714dd94b4205bf02e9fd4ce50eba": {
          "model_module": "@jupyter-widgets/controls",
          "model_name": "IntProgressModel",
          "state": {
            "_view_name": "ProgressView",
            "style": "IPY_MODEL_97de60db1d304881a21c18e736c662d9",
            "_dom_classes": [],
            "description": "Bot:",
            "_model_name": "IntProgressModel",
            "bar_style": "danger",
            "max": 30,
            "_view_module": "@jupyter-widgets/controls",
            "_model_module_version": "1.5.0",
            "value": 6,
            "_view_count": null,
            "_view_module_version": "1.5.0",
            "orientation": "horizontal",
            "min": 0,
            "description_tooltip": null,
            "_model_module": "@jupyter-widgets/controls",
            "layout": "IPY_MODEL_a209b8a57e344f7b90643359c7decdce"
          }
        },
        "24d901debd2c423981625db66e82857e": {
          "model_module": "@jupyter-widgets/controls",
          "model_name": "ProgressStyleModel",
          "state": {
            "_view_name": "StyleView",
            "_model_name": "ProgressStyleModel",
            "description_width": "",
            "_view_module": "@jupyter-widgets/base",
            "_model_module_version": "1.5.0",
            "_view_count": null,
            "_view_module_version": "1.2.0",
            "bar_color": null,
            "_model_module": "@jupyter-widgets/controls"
          }
        },
        "ff23a614b0404326958642b313286c2f": {
          "model_module": "@jupyter-widgets/base",
          "model_name": "LayoutModel",
          "state": {
            "_view_name": "LayoutView",
            "grid_template_rows": null,
            "right": null,
            "justify_content": null,
            "_view_module": "@jupyter-widgets/base",
            "overflow": null,
            "_model_module_version": "1.2.0",
            "_view_count": null,
            "flex_flow": null,
            "width": null,
            "min_width": null,
            "border": null,
            "align_items": null,
            "bottom": null,
            "_model_module": "@jupyter-widgets/base",
            "top": null,
            "grid_column": null,
            "overflow_y": null,
            "overflow_x": null,
            "grid_auto_flow": null,
            "grid_area": null,
            "grid_template_columns": null,
            "flex": null,
            "_model_name": "LayoutModel",
            "justify_items": null,
            "grid_row": null,
            "max_height": null,
            "align_content": null,
            "visibility": null,
            "align_self": null,
            "height": null,
            "min_height": null,
            "padding": null,
            "grid_auto_rows": null,
            "grid_gap": null,
            "max_width": null,
            "order": null,
            "_view_module_version": "1.2.0",
            "grid_template_areas": null,
            "object_position": null,
            "object_fit": null,
            "grid_auto_columns": null,
            "margin": null,
            "display": null,
            "left": null
          }
        },
        "97de60db1d304881a21c18e736c662d9": {
          "model_module": "@jupyter-widgets/controls",
          "model_name": "ProgressStyleModel",
          "state": {
            "_view_name": "StyleView",
            "_model_name": "ProgressStyleModel",
            "description_width": "",
            "_view_module": "@jupyter-widgets/base",
            "_model_module_version": "1.5.0",
            "_view_count": null,
            "_view_module_version": "1.2.0",
            "bar_color": null,
            "_model_module": "@jupyter-widgets/controls"
          }
        },
        "a209b8a57e344f7b90643359c7decdce": {
          "model_module": "@jupyter-widgets/base",
          "model_name": "LayoutModel",
          "state": {
            "_view_name": "LayoutView",
            "grid_template_rows": null,
            "right": null,
            "justify_content": null,
            "_view_module": "@jupyter-widgets/base",
            "overflow": null,
            "_model_module_version": "1.2.0",
            "_view_count": null,
            "flex_flow": null,
            "width": null,
            "min_width": null,
            "border": null,
            "align_items": null,
            "bottom": null,
            "_model_module": "@jupyter-widgets/base",
            "top": null,
            "grid_column": null,
            "overflow_y": null,
            "overflow_x": null,
            "grid_auto_flow": null,
            "grid_area": null,
            "grid_template_columns": null,
            "flex": null,
            "_model_name": "LayoutModel",
            "justify_items": null,
            "grid_row": null,
            "max_height": null,
            "align_content": null,
            "visibility": null,
            "align_self": null,
            "height": null,
            "min_height": null,
            "padding": null,
            "grid_auto_rows": null,
            "grid_gap": null,
            "max_width": null,
            "order": null,
            "_view_module_version": "1.2.0",
            "grid_template_areas": null,
            "object_position": null,
            "object_fit": null,
            "grid_auto_columns": null,
            "margin": null,
            "display": null,
            "left": null
          }
        },
        "67d48463d01248ba88776141681696e0": {
          "model_module": "@jupyter-widgets/controls",
          "model_name": "HTMLModel",
          "state": {
            "_view_name": "HTMLView",
            "style": "IPY_MODEL_ca69c35b45c84adb9ea4dbdf26cd45bd",
            "_dom_classes": [],
            "description": "",
            "_model_name": "HTMLModel",
            "placeholder": "​",
            "_view_module": "@jupyter-widgets/controls",
            "_model_module_version": "1.5.0",
            "value": "<h1 style='color:green'> You Win!</h1>",
            "_view_count": null,
            "_view_module_version": "1.5.0",
            "description_tooltip": null,
            "_model_module": "@jupyter-widgets/controls",
            "layout": "IPY_MODEL_174b6c0942b6499bae62175703f75432"
          }
        },
        "ca69c35b45c84adb9ea4dbdf26cd45bd": {
          "model_module": "@jupyter-widgets/controls",
          "model_name": "DescriptionStyleModel",
          "state": {
            "_view_name": "StyleView",
            "_model_name": "DescriptionStyleModel",
            "description_width": "",
            "_view_module": "@jupyter-widgets/base",
            "_model_module_version": "1.5.0",
            "_view_count": null,
            "_view_module_version": "1.2.0",
            "_model_module": "@jupyter-widgets/controls"
          }
        },
        "174b6c0942b6499bae62175703f75432": {
          "model_module": "@jupyter-widgets/base",
          "model_name": "LayoutModel",
          "state": {
            "_view_name": "LayoutView",
            "grid_template_rows": null,
            "right": null,
            "justify_content": null,
            "_view_module": "@jupyter-widgets/base",
            "overflow": null,
            "_model_module_version": "1.2.0",
            "_view_count": null,
            "flex_flow": null,
            "width": null,
            "min_width": null,
            "border": null,
            "align_items": null,
            "bottom": null,
            "_model_module": "@jupyter-widgets/base",
            "top": null,
            "grid_column": null,
            "overflow_y": null,
            "overflow_x": null,
            "grid_auto_flow": null,
            "grid_area": null,
            "grid_template_columns": null,
            "flex": null,
            "_model_name": "LayoutModel",
            "justify_items": null,
            "grid_row": null,
            "max_height": null,
            "align_content": null,
            "visibility": "hidden",
            "align_self": null,
            "height": null,
            "min_height": null,
            "padding": null,
            "grid_auto_rows": null,
            "grid_gap": null,
            "max_width": null,
            "order": null,
            "_view_module_version": "1.2.0",
            "grid_template_areas": null,
            "object_position": null,
            "object_fit": null,
            "grid_auto_columns": null,
            "margin": null,
            "display": null,
            "left": null
          }
        },
        "e8b30f1de654483d83395ede6ab65fb8": {
          "model_module": "@jupyter-widgets/controls",
          "model_name": "VBoxModel",
          "state": {
            "_view_name": "VBoxView",
            "_dom_classes": [],
            "_model_name": "VBoxModel",
            "_view_module": "@jupyter-widgets/controls",
            "_model_module_version": "1.5.0",
            "_view_count": null,
            "_view_module_version": "1.5.0",
            "box_style": "",
            "layout": "IPY_MODEL_7a4eeca4cc75424d81bfc66346b38058",
            "_model_module": "@jupyter-widgets/controls",
            "children": [
              "IPY_MODEL_ac9933bc8c68493d8920d936662d2bf0",
              "IPY_MODEL_661cc30e935440ed894e04a10359c669"
            ]
          }
        },
        "7a4eeca4cc75424d81bfc66346b38058": {
          "model_module": "@jupyter-widgets/base",
          "model_name": "LayoutModel",
          "state": {
            "_view_name": "LayoutView",
            "grid_template_rows": null,
            "right": null,
            "justify_content": null,
            "_view_module": "@jupyter-widgets/base",
            "overflow": null,
            "_model_module_version": "1.2.0",
            "_view_count": null,
            "flex_flow": null,
            "width": null,
            "min_width": null,
            "border": null,
            "align_items": null,
            "bottom": null,
            "_model_module": "@jupyter-widgets/base",
            "top": null,
            "grid_column": null,
            "overflow_y": null,
            "overflow_x": null,
            "grid_auto_flow": null,
            "grid_area": null,
            "grid_template_columns": null,
            "flex": null,
            "_model_name": "LayoutModel",
            "justify_items": null,
            "grid_row": null,
            "max_height": null,
            "align_content": null,
            "visibility": null,
            "align_self": null,
            "height": null,
            "min_height": null,
            "padding": null,
            "grid_auto_rows": null,
            "grid_gap": null,
            "max_width": null,
            "order": null,
            "_view_module_version": "1.2.0",
            "grid_template_areas": null,
            "object_position": null,
            "object_fit": null,
            "grid_auto_columns": null,
            "margin": null,
            "display": null,
            "left": null
          }
        },
        "ac9933bc8c68493d8920d936662d2bf0": {
          "model_module": "@jupyter-widgets/controls",
          "model_name": "HBoxModel",
          "state": {
            "_view_name": "HBoxView",
            "_dom_classes": [],
            "_model_name": "HBoxModel",
            "_view_module": "@jupyter-widgets/controls",
            "_model_module_version": "1.5.0",
            "_view_count": null,
            "_view_module_version": "1.5.0",
            "box_style": "",
            "layout": "IPY_MODEL_e66f1cce06dc4156b58dd091aafa3a8d",
            "_model_module": "@jupyter-widgets/controls",
            "children": [
              "IPY_MODEL_94cc6b379c3d490f8cc8623dbc026908",
              "IPY_MODEL_67d48463d01248ba88776141681696e0"
            ]
          }
        },
        "e66f1cce06dc4156b58dd091aafa3a8d": {
          "model_module": "@jupyter-widgets/base",
          "model_name": "LayoutModel",
          "state": {
            "_view_name": "LayoutView",
            "grid_template_rows": null,
            "right": null,
            "justify_content": null,
            "_view_module": "@jupyter-widgets/base",
            "overflow": null,
            "_model_module_version": "1.2.0",
            "_view_count": null,
            "flex_flow": null,
            "width": null,
            "min_width": null,
            "border": null,
            "align_items": null,
            "bottom": null,
            "_model_module": "@jupyter-widgets/base",
            "top": null,
            "grid_column": null,
            "overflow_y": null,
            "overflow_x": null,
            "grid_auto_flow": null,
            "grid_area": null,
            "grid_template_columns": null,
            "flex": null,
            "_model_name": "LayoutModel",
            "justify_items": null,
            "grid_row": null,
            "max_height": null,
            "align_content": null,
            "visibility": null,
            "align_self": null,
            "height": null,
            "min_height": null,
            "padding": null,
            "grid_auto_rows": null,
            "grid_gap": null,
            "max_width": null,
            "order": null,
            "_view_module_version": "1.2.0",
            "grid_template_areas": null,
            "object_position": null,
            "object_fit": null,
            "grid_auto_columns": null,
            "margin": null,
            "display": null,
            "left": null
          }
        }
      }
    }
  },
  "cells": [
    {
      "cell_type": "markdown",
      "metadata": {
        "id": "HM2tGES_C55T"
      },
      "source": [
        "# Source code Game Mind Reader"
      ]
    },
    {
      "cell_type": "markdown",
      "metadata": {
        "id": "MPWpMxh3C552"
      },
      "source": [
        "## 1. Penjelasan dan Ide Game\n",
        "**Mind Reader** adalah game sejenis dengan <span style='color:blue'>batu-gunting-kertas</span> melawan <span style='color:red'>komputer</span>. <span style='color:green'>Anda</span> dapat memilih angka **1 atau 0**. Kemudian <span style='color:red'>komputer</span> akan menebak pilihan <span style='color:green'>Anda</span> menggunakan **machine learning**. Jika <span style='color:red'>komputer</span> benar maka ia mendapat poin, kebalikannya maka <span style='color:green'>Anda</span> mendapat poin. Yang pertama mencapai **10 poin** menang!"
      ]
    },
    {
      "cell_type": "markdown",
      "metadata": {
        "id": "RIAqHLfWC557"
      },
      "source": [
        "## 2. Import tools\n",
        "import tools yang akan kita pakai untuk membuat game ini"
      ]
    },
    {
      "cell_type": "code",
      "metadata": {
        "id": "gS8pI_5SC559"
      },
      "source": [
        "from ipywidgets import *\n",
        "import numpy as np"
      ],
      "execution_count": null,
      "outputs": []
    },
    {
      "cell_type": "markdown",
      "metadata": {
        "id": "fPRXh8gSC56B"
      },
      "source": [
        "## 3. Membuat Tombol\n",
        "Tombol ini digunakan untuk menentukan pilihan pengguna"
      ]
    },
    {
      "cell_type": "code",
      "metadata": {
        "colab": {
          "base_uri": "https://localhost:8080/",
          "height": 49,
          "referenced_widgets": [
            "661cc30e935440ed894e04a10359c669",
            "4c037926fc1a4b4d9f20e28b4b8ea13a",
            "925771dc6f7e426584a48ea094ccd652",
            "b7f5737b22b74e22876ecf8927b0c7ef",
            "92b1c4c53ab4421880bd6afba1339acd",
            "cb9a662adf204546aeb76bb2b59f1c76",
            "826c8ec67cb64ea798a045feafbf38c9",
            "1bce0244f8aa4dc3ac848fb6559f4700",
            "95eeebc812ae432eb9b75a81825c9358",
            "577de89ffc064a7bb8128e11271b70ff",
            "528f983badc64e36ba5817dd36dc9421"
          ]
        },
        "id": "oe8ihO3dC56C",
        "outputId": "bbb3fe6e-1ff6-46a8-ef62-0ca066e90e53"
      },
      "source": [
        "btn_gunting = Button( description='gunting' )\n",
        "btn_batu = Button( description='batu' )\n",
        "btn_kertas = Button( description='kertas' )\n",
        "btns = HBox( [btn_gunting, btn_kertas, btn_batu])\n",
        "btns"
      ],
      "execution_count": null,
      "outputs": [
        {
          "output_type": "display_data",
          "data": {
            "application/vnd.jupyter.widget-view+json": {
              "model_id": "661cc30e935440ed894e04a10359c669",
              "version_minor": 0,
              "version_major": 2
            },
            "text/plain": [
              "HBox(children=(Button(description='gunting', style=ButtonStyle()), Button(description='kertas', style=ButtonSt…"
            ]
          },
          "metadata": {
            "tags": []
          }
        }
      ]
    },
    {
      "cell_type": "markdown",
      "metadata": {
        "id": "q0wzpmJVC56I"
      },
      "source": [
        "# 4. Scoreboard\n",
        "Kita menggunakan dua progress bar untuk menunjukkan scoreboard"
      ]
    },
    {
      "cell_type": "code",
      "metadata": {
        "colab": {
          "base_uri": "https://localhost:8080/",
          "height": 81,
          "referenced_widgets": [
            "94cc6b379c3d490f8cc8623dbc026908",
            "9c67a5cd9e6041c7b3a772cef15fc4b1",
            "898d304750ce48e0b0c9919de12a0ae5",
            "83a4714dd94b4205bf02e9fd4ce50eba",
            "24d901debd2c423981625db66e82857e",
            "ff23a614b0404326958642b313286c2f",
            "97de60db1d304881a21c18e736c662d9",
            "a209b8a57e344f7b90643359c7decdce"
          ]
        },
        "id": "ty10Q3j5C56J",
        "outputId": "6238d8c8-8a14-4e9a-84af-8303124d8e00"
      },
      "source": [
        "usr_score = IntProgress( value=0, min=0, max=30, description='You:', bar_style='success')\n",
        "bot_score = IntProgress( value=0, min=0, max=30, description='Bot:', bar_style='danger')\n",
        "scoreboard = VBox( [usr_score, bot_score])\n",
        "scoreboard"
      ],
      "execution_count": null,
      "outputs": [
        {
          "output_type": "display_data",
          "data": {
            "application/vnd.jupyter.widget-view+json": {
              "model_id": "94cc6b379c3d490f8cc8623dbc026908",
              "version_minor": 0,
              "version_major": 2
            },
            "text/plain": [
              "VBox(children=(IntProgress(value=0, bar_style='success', description='You:', max=30), IntProgress(value=0, bar…"
            ]
          },
          "metadata": {
            "tags": []
          }
        }
      ]
    },
    {
      "cell_type": "markdown",
      "metadata": {
        "id": "x9XAMyOLC56J"
      },
      "source": [
        "# 5. Pesan Game Over\n",
        "Di akhir permainan, bergantung dari anda kalah atau menang kita akan mencetak *\"You Win\"* atau *\"You Loose!\"*"
      ]
    },
    {
      "cell_type": "code",
      "metadata": {
        "colab": {
          "base_uri": "https://localhost:8080/",
          "height": 70,
          "referenced_widgets": [
            "67d48463d01248ba88776141681696e0",
            "ca69c35b45c84adb9ea4dbdf26cd45bd",
            "174b6c0942b6499bae62175703f75432"
          ]
        },
        "id": "KWbgda6YC56K",
        "outputId": "1934f834-83a2-43b4-9cba-ae3b2fb64b79"
      },
      "source": [
        "final_msg = HTML(\"<h1 style='color:green'> You Win!</h1>\")\n",
        "final_msg"
      ],
      "execution_count": null,
      "outputs": [
        {
          "output_type": "display_data",
          "data": {
            "application/vnd.jupyter.widget-view+json": {
              "model_id": "67d48463d01248ba88776141681696e0",
              "version_minor": 0,
              "version_major": 2
            },
            "text/plain": [
              "HTML(value=\"<h1 style='color:green'> You Win!</h1>\")"
            ]
          },
          "metadata": {
            "tags": []
          }
        }
      ]
    },
    {
      "cell_type": "markdown",
      "metadata": {
        "id": "OoSni-UmC56L"
      },
      "source": [
        "# 6. Game Box\n",
        "Sekarang kita akan menyatukan semua widgets di dalam sebuah kotak bernama game_box"
      ]
    },
    {
      "cell_type": "code",
      "metadata": {
        "colab": {
          "base_uri": "https://localhost:8080/",
          "height": 113,
          "referenced_widgets": [
            "e8b30f1de654483d83395ede6ab65fb8",
            "7a4eeca4cc75424d81bfc66346b38058",
            "ac9933bc8c68493d8920d936662d2bf0",
            "661cc30e935440ed894e04a10359c669",
            "e66f1cce06dc4156b58dd091aafa3a8d",
            "94cc6b379c3d490f8cc8623dbc026908",
            "67d48463d01248ba88776141681696e0",
            "4c037926fc1a4b4d9f20e28b4b8ea13a",
            "925771dc6f7e426584a48ea094ccd652",
            "b7f5737b22b74e22876ecf8927b0c7ef",
            "92b1c4c53ab4421880bd6afba1339acd",
            "9c67a5cd9e6041c7b3a772cef15fc4b1",
            "898d304750ce48e0b0c9919de12a0ae5",
            "83a4714dd94b4205bf02e9fd4ce50eba",
            "ca69c35b45c84adb9ea4dbdf26cd45bd",
            "174b6c0942b6499bae62175703f75432",
            "cb9a662adf204546aeb76bb2b59f1c76",
            "826c8ec67cb64ea798a045feafbf38c9",
            "1bce0244f8aa4dc3ac848fb6559f4700",
            "95eeebc812ae432eb9b75a81825c9358",
            "577de89ffc064a7bb8128e11271b70ff",
            "528f983badc64e36ba5817dd36dc9421",
            "24d901debd2c423981625db66e82857e",
            "ff23a614b0404326958642b313286c2f",
            "97de60db1d304881a21c18e736c662d9",
            "a209b8a57e344f7b90643359c7decdce"
          ]
        },
        "id": "hgLseglpC56L",
        "outputId": "960627c3-541c-4f6c-ebb0-b6267dfac376"
      },
      "source": [
        "game_box = VBox([   HBox( [scoreboard, final_msg] ), \n",
        "                    btns \n",
        "                ])\n",
        "game_box"
      ],
      "execution_count": null,
      "outputs": [
        {
          "output_type": "display_data",
          "data": {
            "application/vnd.jupyter.widget-view+json": {
              "model_id": "e8b30f1de654483d83395ede6ab65fb8",
              "version_minor": 0,
              "version_major": 2
            },
            "text/plain": [
              "VBox(children=(HBox(children=(VBox(children=(IntProgress(value=0, bar_style='success', description='You:', max…"
            ]
          },
          "metadata": {
            "tags": []
          }
        }
      ]
    },
    {
      "cell_type": "code",
      "metadata": {
        "id": "tED2iBoGC56M"
      },
      "source": [
        "final_msg.layout.visibility = 'hidden'"
      ],
      "execution_count": null,
      "outputs": []
    },
    {
      "cell_type": "markdown",
      "metadata": {
        "id": "uSdV4tvsC56M"
      },
      "source": [
        "# 7. Function : Update Game\n",
        "Di sini kita akan membuat sebuah fungsi untuk melakukan update setelah setiap kali kita memilih angka. Yang akan dilakukan adalah :\n",
        "1. Komputer akan menebak angka yang kita pilih dari riwayat pilihan kita sebelumnya\n",
        "2. Menambahkan 1 pada score komputer jika menebak angka anda dengan tepat, dan menambahkan 1 pada score anda jika tebakannya salah\n",
        "3. Stop permainan saat salah satu sudah menang"
      ]
    },
    {
      "cell_type": "code",
      "metadata": {
        "id": "Wqbi4tSSC56N"
      },
      "source": [
        "btn_gunting.on_click(lambda b: update_game(0))\n",
        "btn_kertas.on_click(lambda b: update_game(1))\n",
        "btn_batu.on_click(lambda b: update_game(2))"
      ],
      "execution_count": null,
      "outputs": []
    },
    {
      "cell_type": "code",
      "metadata": {
        "id": "ufVthSdrC56O"
      },
      "source": [
        "usr_history = [0, 1]\n",
        "\n",
        "\n",
        "def get_bot_choice(usr_choice):\n",
        "    prob = (sum( usr_history ) / len( usr_history ))/2\n",
        "    bot_prediction = np.random.binomial(2, prob, 1)[0]\n",
        "    usr_history.append(usr_choice)\n",
        "\n",
        "    bot_choice = bot_prediction - 1\n",
        "    if bot_choice < 0:\n",
        "        bot_choice = 2\n",
        "    return bot_choice\n",
        "\n",
        "def update_game( usr_choice ):\n",
        "    # global usr_score\n",
        "    # global bot_score\n",
        "\n",
        "    bot_choice = get_bot_choice(usr_choice)\n",
        "    \n",
        "    if bot_choice == usr_choice:\n",
        "        pass\n",
        "    elif bot_choice == 0:\n",
        "        if usr_choice == 1:\n",
        "            bot_score.value += 1\n",
        "        else:\n",
        "            usr_score.value += 1\n",
        "    elif bot_choice == 1:\n",
        "        if usr_choice == 0:\n",
        "            usr_score.value += 1\n",
        "        else:\n",
        "            bot_score.value += 1\n",
        "    elif bot_choice == 2:\n",
        "        if usr_choice == 1:\n",
        "            usr_score.value += 1\n",
        "        else:\n",
        "            bot_score.value += 1\n",
        "\n",
        "    if usr_score.value == 30 or bot_score.value == 30:\n",
        "        if bot_score.value == 30:\n",
        "            final_msg.value = \"<h1 style='color:red'> You Loose!</h1>\"\n",
        "        final_msg.layout.visibility = \"visible\"\n",
        "        btn_zero.disabled = True\n",
        "        btn_one.disabled = True\n",
        "    \n",
        "    return"
      ],
      "execution_count": null,
      "outputs": []
    },
    {
      "cell_type": "markdown",
      "metadata": {
        "id": "_7bX-RyAC56V"
      },
      "source": [
        "# 8. Play\n",
        "Agar game Mind Reader tampil di file lain"
      ]
    },
    {
      "cell_type": "code",
      "metadata": {
        "colab": {
          "base_uri": "https://localhost:8080/",
          "height": 113,
          "referenced_widgets": [
            "e8b30f1de654483d83395ede6ab65fb8",
            "7a4eeca4cc75424d81bfc66346b38058",
            "ac9933bc8c68493d8920d936662d2bf0",
            "661cc30e935440ed894e04a10359c669",
            "e66f1cce06dc4156b58dd091aafa3a8d",
            "94cc6b379c3d490f8cc8623dbc026908",
            "67d48463d01248ba88776141681696e0",
            "4c037926fc1a4b4d9f20e28b4b8ea13a",
            "925771dc6f7e426584a48ea094ccd652",
            "b7f5737b22b74e22876ecf8927b0c7ef",
            "92b1c4c53ab4421880bd6afba1339acd",
            "9c67a5cd9e6041c7b3a772cef15fc4b1",
            "898d304750ce48e0b0c9919de12a0ae5",
            "83a4714dd94b4205bf02e9fd4ce50eba",
            "ca69c35b45c84adb9ea4dbdf26cd45bd",
            "174b6c0942b6499bae62175703f75432",
            "cb9a662adf204546aeb76bb2b59f1c76",
            "826c8ec67cb64ea798a045feafbf38c9",
            "1bce0244f8aa4dc3ac848fb6559f4700",
            "95eeebc812ae432eb9b75a81825c9358",
            "577de89ffc064a7bb8128e11271b70ff",
            "528f983badc64e36ba5817dd36dc9421",
            "24d901debd2c423981625db66e82857e",
            "ff23a614b0404326958642b313286c2f",
            "97de60db1d304881a21c18e736c662d9",
            "a209b8a57e344f7b90643359c7decdce"
          ]
        },
        "id": "DbARYJe0C56W",
        "outputId": "3cab392c-b11e-47ff-a157-20a869bf57dc"
      },
      "source": [
        "display( game_box )"
      ],
      "execution_count": null,
      "outputs": [
        {
          "output_type": "display_data",
          "data": {
            "application/vnd.jupyter.widget-view+json": {
              "model_id": "e8b30f1de654483d83395ede6ab65fb8",
              "version_minor": 0,
              "version_major": 2
            },
            "text/plain": [
              "VBox(children=(HBox(children=(VBox(children=(IntProgress(value=0, bar_style='success', description='You:', max…"
            ]
          },
          "metadata": {
            "tags": []
          }
        }
      ]
    },
    {
      "cell_type": "code",
      "metadata": {
        "id": "fRGE2kyMC56X"
      },
      "source": [
        ""
      ],
      "execution_count": null,
      "outputs": []
    }
  ]
}